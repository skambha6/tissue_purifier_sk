{
 "cells": [
  {
   "cell_type": "markdown",
   "id": "c89b96dd-5ad8-4200-9efa-c1465dbd64e0",
   "metadata": {},
   "source": [
    "### Test pyro model with simulations"
   ]
  },
  {
   "cell_type": "code",
   "execution_count": 1,
   "id": "11171e86-c3ad-46ff-9900-e18aaaafe8db",
   "metadata": {},
   "outputs": [],
   "source": [
    "# TO REMOVE when notebook is stable\n",
    "\n",
    "%load_ext autoreload\n",
    "%autoreload 2"
   ]
  },
  {
   "cell_type": "code",
   "execution_count": 2,
   "id": "c3a20199-21e5-46e2-a65b-ce36d0f6d28e",
   "metadata": {},
   "outputs": [
    {
     "name": "stderr",
     "output_type": "stream",
     "text": [
      "/home/jupyter/.local/lib/python3.9/site-packages/tqdm/auto.py:22: TqdmWarning: IProgress not found. Please update jupyter and ipywidgets. See https://ipywidgets.readthedocs.io/en/stable/user_install.html\n",
      "  from .autonotebook import tqdm as notebook_tqdm\n"
     ]
    }
   ],
   "source": [
    "import pyro.distributions as dist\n",
    "from pyro.distributions.torch_distribution import TorchDistribution\n",
    "from tissue_purifier.genex.pyro_model_from_scratch import *\n",
    "from tissue_purifier.genex.gene_utils import *\n",
    "\n",
    "import numpy\n",
    "import numpy as np\n",
    "import torch\n",
    "import seaborn\n",
    "import tarfile\n",
    "import os\n",
    "import matplotlib\n",
    "import matplotlib.pyplot as plt\n",
    "from anndata import read_h5ad\n",
    "import scanpy as sc\n",
    "import pandas as pd\n",
    "\n",
    "from torch.distributions.poisson import Poisson \n"
   ]
  },
  {
   "cell_type": "code",
   "execution_count": 3,
   "id": "68bbbff0-c562-4c53-93c8-dcd79865c0a7",
   "metadata": {},
   "outputs": [],
   "source": [
    "# rng = torch.Generator()\n",
    "# seed = 142\n",
    "# rng.manual_seed(seed)\n",
    "# torch.randn((5,2), generator=rng)\n",
    "# x = torch.random.get_rng_state()"
   ]
  },
  {
   "cell_type": "code",
   "execution_count": 4,
   "id": "97ef0689-15ad-4a50-a789-47672b2aa2f4",
   "metadata": {},
   "outputs": [],
   "source": [
    "# torch.randn((5,2), generator=rng)\n",
    "# y = torch.random.get_rng_state()\n",
    "# print(sum(x != y))"
   ]
  },
  {
   "cell_type": "code",
   "execution_count": 5,
   "id": "6375fc42-42ad-463b-82c0-21ed11a91cf0",
   "metadata": {},
   "outputs": [],
   "source": [
    "## set parameters for simulation\n",
    "\n",
    "k = 5\n",
    "n = 1000 * k\n",
    "g = 10\n",
    "nUmis = 10000\n",
    "l = k\n",
    "\n",
    "\n",
    "use_covariates_generate = True\n",
    "\n",
    "simulate_covar = \"ncv\"\n",
    "covar_var = 1"
   ]
  },
  {
   "cell_type": "code",
   "execution_count": 6,
   "id": "e1adf485-ff5a-4985-b7c1-1dc5f7dfa056",
   "metadata": {},
   "outputs": [],
   "source": [
    "## simulate fake ncv/covariate counts\n",
    "\n",
    "beta0_k1g = dist.Normal(-2, 1).sample((k,g))[:, None, :]\n",
    "\n",
    "## normalize beta0s so they add up to 1 for each cell-type across all genes **?\n",
    "## logsumexp to renormalize\n",
    "beta0_k1g_norm = beta0_k1g - torch.logsumexp(beta0_k1g, dim=-1, keepdim=True)\n",
    "\n",
    "total_umi_n1 = torch.tensor(nUmis).expand((n,1)).float()\n",
    "total_umi_n11 = total_umi_n1[..., None]\n",
    "\n",
    "\n",
    "# sample fake ncv vectors\n",
    "prob = np.array([0.75])\n",
    "covar_n1l = dist.Dirichlet(torch.tensor(np.repeat(prob,[l]))).sample((n,1))\n",
    "#ncv_n1l = torch.ones((n,1,l))\n",
    "\n",
    "#print(ncv_n1l)\n",
    "covar_nl = torch.squeeze(covar_n1l, 1)\n",
    "covar_nl1 = covar_nl.unsqueeze(dim=-1)\n",
    "\n",
    "## sample fake covariates\n",
    "beta_klg = dist.Normal(0,covar_var).sample((k,l,g))\n",
    "\n",
    "## mean centering beta ##\n",
    "#mean = torch.mean(beta_klg, dim=-2)\n",
    "#mean = einops.repeat(mean, 'k g -> k l g', l=l)\n",
    "#beta_klg = beta_klg - mean\n",
    "\n",
    "#beta_klg = 2*torch.ones((k,l,g))\n",
    "#beta_klg = beta_klg - torch.mean(beta_klg, dim=-2)\n",
    "## add in sparsity + regularization later\n",
    "\n",
    "\n",
    "cell_ids_n = (torch.rand((n))*k).int().long() ##randint instead\n",
    "#beta0_n1g = beta0_k1g_norm[cell_ids_n]\n",
    "beta0_n1g = beta0_k1g[cell_ids_n]\n",
    "beta_nlg = beta_klg[cell_ids_n]\n",
    "\n",
    "#print(beta_klg)\n",
    "#print(torch.sum(ncv_nl1 * beta_nlg, dim=-2, keepdim=True))\n",
    "\n",
    "if use_covariates_generate:\n",
    "    log_mu_n1g = beta0_n1g + torch.sum(covar_nl1 * beta_nlg, dim=-2, keepdim=True)\n",
    "    #log_mu_n1g = torch.sum(ncv_nl1 * beta_nlg, dim=-2, keepdim=True)\n",
    "else:\n",
    "    log_mu_n1g = beta0_n1g\n",
    "\n",
    "log_mu_n1g_norm = log_mu_n1g - torch.logsumexp(log_mu_n1g, dim=-1, keepdim=True) ## normalize across genes so that sum of umis is roughly correct\n",
    "#log_mu_n1g_norm = log_mu_n1g\n",
    "sim_counts_n1g = Poisson(rate=total_umi_n11*log_mu_n1g_norm.exp()).sample()\n",
    "\n"
   ]
  },
  {
   "cell_type": "code",
   "execution_count": 7,
   "id": "d1ec3ac0-ea99-403a-b297-a32c7439ed20",
   "metadata": {},
   "outputs": [],
   "source": [
    "# ## simulate fake ssl model counts\n",
    "# if simulate_covar == \"barlow\":\n",
    "\n",
    "#     ## simulate fake barlow counts\n",
    "\n",
    "#     beta0_k1g = dist.Normal(-2, 1).sample((k,g))[:, None, :]\n",
    "\n",
    "#     ## normalize beta0s so they add up to 1 for each cell-type across all genes **?\n",
    "#     ## logsumexp to renormalize\n",
    "#     beta0_k1g_norm = beta0_k1g - torch.logsumexp(beta0_k1g, dim=-1, keepdim=True)\n",
    "\n",
    "#     total_umi_n1 = torch.tensor(nUmis).expand((n,1)).float()\n",
    "#     total_umi_n11 = total_umi_n1[..., None]\n",
    "\n",
    "\n",
    "#     # sample fake barlow covariates from a Normal(0, 2) distribution, where we change var to test whether the priors are working correctly (optionally add sparsity effect)\n",
    "#     covar_n1l = dist.Normal(0,2).sample((n,1,l))\n",
    "\n",
    "#     covar_nl = torch.squeeze(covar_n1l, 1)\n",
    "#     covar_nl1 = covar_nl.unsqueeze(dim=-1)\n",
    "\n",
    "#     ## sample fake covariates\n",
    "#     beta_klg = dist.Normal(0,barlow_var).sample((k,l,g))\n",
    "\n",
    "#     ## mean centering beta ##\n",
    "#     #mean = torch.mean(beta_klg, dim=-2)\n",
    "#     #mean = einops.repeat(mean, 'k g -> k l g', l=l)\n",
    "#     #beta_klg = beta_klg - mean\n",
    "\n",
    "#     #beta_klg = 2*torch.ones((k,l,g))\n",
    "#     #beta_klg = beta_klg - torch.mean(beta_klg, dim=-2)\n",
    "#     ## add in sparsity + regularization later\n",
    "\n",
    "\n",
    "#     cell_ids_n = (torch.rand((n))*k).int().long() ##randint instead\n",
    "#     #beta0_n1g = beta0_k1g_norm[cell_ids_n]\n",
    "#     beta0_n1g = beta0_k1g[cell_ids_n]\n",
    "#     beta_nlg = beta_klg[cell_ids_n]\n",
    "\n",
    "#     #print(beta_klg)\n",
    "\n",
    "#     if use_covariates_generate:\n",
    "#         log_mu_n1g = beta0_n1g + torch.sum(covar_nl1 * beta_nlg, dim=-2, keepdim=True)\n",
    "#     else:\n",
    "#         log_mu_n1g = beta0_n1g\n",
    "\n",
    "#     log_mu_n1g_norm = log_mu_n1g - torch.logsumexp(log_mu_n1g, dim=-1, keepdim=True) ## normalize across genes so that sum of umis is roughly correct\n",
    "#     #log_mu_n1g_norm = log_mu_n1g\n",
    "#     sim_counts_n1g = Poisson(rate=total_umi_n11*log_mu_n1g_norm.exp()).sample()\n",
    "\n"
   ]
  },
  {
   "cell_type": "code",
   "execution_count": 8,
   "id": "bfa0880a-7a2e-452d-95c7-6c9248b86b97",
   "metadata": {},
   "outputs": [
    {
     "name": "stdout",
     "output_type": "stream",
     "text": [
      "torch.Size([5000, 1, 10])\n",
      "tensor(9999.3244, dtype=torch.float64)\n",
      "torch.Size([5, 1, 10])\n",
      "torch.Size([5000, 1, 10])\n"
     ]
    }
   ],
   "source": [
    "print(sim_counts_n1g.shape)\n",
    "print(torch.mean(sim_counts_n1g.sum(dim=-1)))\n",
    "print(beta0_k1g.shape)\n",
    "print(beta0_n1g.shape)"
   ]
  },
  {
   "cell_type": "markdown",
   "id": "d30c597e-c9b5-4f48-b0c9-5983038b2f5e",
   "metadata": {},
   "source": [
    "### Fit model"
   ]
  },
  {
   "cell_type": "code",
   "execution_count": 9,
   "id": "a071e6b9-9653-4837-8de7-f712d9fe3674",
   "metadata": {},
   "outputs": [],
   "source": [
    "use_covariates_model = True"
   ]
  },
  {
   "cell_type": "code",
   "execution_count": 10,
   "id": "5d4aa35d-3db1-42cd-9fb8-dda1deb6c746",
   "metadata": {},
   "outputs": [],
   "source": [
    "## look for indexing bugs \n",
    "\n",
    "## Create GeneDataset\n",
    "\n",
    "import anndata\n",
    "from scipy import sparse\n",
    "\n",
    "    \n",
    "counts_ng = np.float32(sim_counts_n1g.squeeze()) ## assume n and g aren't 1\n",
    "sim_anndata = anndata.AnnData(X=sparse.csr_matrix(counts_ng))\n",
    "sim_anndata.obs['cell_type'] = cell_ids_n.numpy()\n",
    "\n",
    "sim_anndata.obsm[simulate_covar] = np.array(covar_nl)\n",
    "\n",
    "## Run GLM\n",
    "\n",
    "gene_dataset = make_gene_dataset_from_anndata(\n",
    "        anndata=sim_anndata,\n",
    "        cell_type_key='cell_type',\n",
    "        covariate_key = simulate_covar,\n",
    "        preprocess_strategy='raw',\n",
    "        apply_pca=False)\n"
   ]
  },
  {
   "cell_type": "code",
   "execution_count": 11,
   "id": "66b37ef6-9b9f-4861-9a19-2a8ed99de2f1",
   "metadata": {},
   "outputs": [],
   "source": [
    "assert(np.all(np.array(gene_dataset.cell_type_ids) == cell_ids_n.numpy()))"
   ]
  },
  {
   "cell_type": "code",
   "execution_count": 12,
   "id": "3fba6d27-bb66-47a2-9d2b-bcea61800f1c",
   "metadata": {},
   "outputs": [
    {
     "name": "stdout",
     "output_type": "stream",
     "text": [
      "[iter 0]  loss: 17236928.0000\n",
      "[iter 500]  loss: 425722.5000\n",
      "[iter 1000]  loss: 269339.0625\n",
      "[iter 1500]  loss: 245900.0000\n",
      "[iter 2000]  loss: 240941.6094\n",
      "[iter 2500]  loss: 234291.8281\n",
      "[iter 3000]  loss: 229575.0312\n",
      "[iter 3500]  loss: 230666.7500\n",
      "[iter 4000]  loss: 240410.2812\n",
      "[iter 4500]  loss: 239746.2812\n",
      "[iter 5000]  loss: 232077.7500\n",
      "Training completed in 25.981741905212402 seconds\n"
     ]
    },
    {
     "data": {
      "image/png": "[encoded data removed]",
      "text/plain": [
       "<Figure size 800x400 with 2 Axes>"
      ]
     },
     "metadata": {},
     "output_type": "display_data"
    }
   ],
   "source": [
    "train_dataset, test_dataset, val_dataset = next(iter(train_test_val_split(gene_dataset, random_state=0, train_size=0.8,test_size=0.1,val_size=0.1)))\n",
    "\n",
    "pyro.clear_param_store()\n",
    "torch.cuda.empty_cache()\n",
    "\n",
    "### is this bad to do?\n",
    "if torch.cuda.is_available():\n",
    "    torch.set_default_tensor_type('torch.cuda.FloatTensor')\n",
    "    \n",
    "gr_cov = GeneRegression(use_covariates = use_covariates_model)\n",
    "gr_cov.configure_optimizer(optimizer_type='adam', lr=5e-3)\n",
    "\n",
    "if simulate_covar == 'ncv':\n",
    "    beta0_k1g_store, beta_klg_store = gr_cov.train(\n",
    "        dataset=train_dataset,\n",
    "        n_steps=5000,\n",
    "        print_frequency=500,\n",
    "        #l2_regularization_strength=1000,\n",
    "        subsample_size_cells=1000)\n",
    "elif simulate_covar == 'barlow':\n",
    "    beta0_k1g_store, beta_klg_store = gr_cov.train(\n",
    "        dataset=train_dataset,\n",
    "        n_steps=5000,\n",
    "        print_frequency=500,\n",
    "        l2_regularization_strength=1/barlow_var,\n",
    "        subsample_size_cells=1000)\n",
    "\n",
    "\n",
    "fig, axes = plt.subplots(ncols=2, figsize=(8,4))\n",
    "gr_cov.show_loss(ax=axes[0])\n",
    "gr_cov.show_loss(ax=axes[1], logy=True, logx=True)"
   ]
  },
  {
   "cell_type": "code",
   "execution_count": 14,
   "id": "ccdcf74b-5be3-43b3-9f0d-cc9126830bac",
   "metadata": {
    "tags": []
   },
   "outputs": [
    {
     "ename": "SyntaxError",
     "evalue": "positional argument follows keyword argument (266247281.py, line 20)",
     "output_type": "error",
     "traceback": [
      "\u001b[0;36m  Input \u001b[0;32mIn [14]\u001b[0;36m\u001b[0m\n\u001b[0;31m    beta0_g_init: torch.Tensor,\u001b[0m\n\u001b[0m                ^\u001b[0m\n\u001b[0;31mSyntaxError\u001b[0m\u001b[0;31m:\u001b[0m positional argument follows keyword argument\n"
     ]
    }
   ],
   "source": [
    "import pyro.poutine as poutine\n",
    "\n",
    "counts_ng= gene_dataset.counts\n",
    "total_umi_n= gene_dataset.counts.sum(dim=-1)\n",
    "fraction_ng = counts_ng / total_umi_n.view(-1, 1)\n",
    "tmp_g = fraction_ng.mean(dim=0).log()\n",
    "beta0_g_init = torch.where(torch.isfinite(tmp_g), tmp_g, torch.zeros_like(tmp_g))  # remove nan if Any\n",
    "    \n",
    "trace = poutine.trace(gr_cov._model).get_trace(n_cells= n,\n",
    "           l_cov= l,\n",
    "           g_genes= g,\n",
    "           k_cell_types= k,\n",
    "           use_covariates= use_covariates_model,\n",
    "           counts_ng= gene_dataset.counts,\n",
    "           total_umi_n= gene_dataset.counts.sum(dim=-1),\n",
    "           covariates_nl= gene_dataset.covariates,\n",
    "           cell_type_ids_n= gene_dataset.cell_type_ids,\n",
    "           l1_regularization_strength=None,\n",
    "           l2_regularization_strength=None,\n",
    "           beta0_g_init=beta0_g_init,\n",
    "           subsample_size_cells=None)\n",
    "trace.compute_log_prob()  # optional, but allows printing of log_prob shapes\n",
    "print(trace.format_shapes())"
   ]
  },
  {
   "cell_type": "markdown",
   "id": "91b1ff2a-62fe-4519-ad1a-f76810e47fc9",
   "metadata": {},
   "source": [
    "### Evaluate model fit"
   ]
  },
  {
   "cell_type": "code",
   "execution_count": null,
   "id": "0036f838-ba54-475f-82be-e37c9bc7ebb3",
   "metadata": {},
   "outputs": [],
   "source": [
    "## Get fit parameters\n",
    "pred_beta0_k1g = gr_cov._param_dict[\"beta0\"]"
   ]
  },
  {
   "cell_type": "code",
   "execution_count": null,
   "id": "0916be14-5e9f-4f93-890b-b28b1fc12fac",
   "metadata": {},
   "outputs": [],
   "source": [
    "print(beta0_k1g_norm[1, 0, 0])\n",
    "\n",
    "beta0_inspect = []\n",
    "for beta0_k1g_temp in beta0_k1g_store:\n",
    "    beta0_inspect.append(beta0_k1g_temp[1, 0, 0].detach().cpu().numpy())\n",
    "    \n",
    "    \n",
    "plt.plot(beta0_inspect)\n",
    "plt.title('beta0')"
   ]
  },
  {
   "cell_type": "code",
   "execution_count": null,
   "id": "e9fedc64-8b06-43b4-9252-5587d751d108",
   "metadata": {},
   "outputs": [],
   "source": [
    "## beta 0 correlation\n",
    "print(\"beta0 correlation:\")\n",
    "print(np.corrcoef(beta0_k1g_norm.detach().numpy().flatten(), pred_beta0_k1g.detach().numpy().flatten())[0,1])"
   ]
  },
  {
   "cell_type": "code",
   "execution_count": null,
   "id": "212df8a9-2445-487e-9b73-2c6c962a0835",
   "metadata": {},
   "outputs": [],
   "source": [
    "# gene_dataset.counts[gene_dataset.cell_type_ids == 0].sum(dim=0)/gene_dataset.counts[gene_dataset.cell_type_ids == 0].sum(dim=0).sum()\n",
    "# gene_dataset.counts[gene_dataset.cell_type_ids == 1].sum(dim=0)/gene_dataset.counts[gene_dataset.cell_type_ids == 1].sum(dim=0).sum()"
   ]
  },
  {
   "cell_type": "code",
   "execution_count": null,
   "id": "7512fcee-5e88-4e89-9dc2-dd33271f4ac6",
   "metadata": {},
   "outputs": [],
   "source": [
    "plt.scatter(beta0_k1g_norm.detach().numpy().flatten(), pred_beta0_k1g.detach().numpy().flatten())\n",
    "plt.title('beta0 correlation')\n",
    "plt.xlabel('true parameter value')\n",
    "plt.ylabel('predicted parameter value')"
   ]
  },
  {
   "cell_type": "markdown",
   "id": "e7bbf572-047b-4efa-b8bf-b9494af2ae28",
   "metadata": {},
   "source": [
    "### repeat for beta"
   ]
  },
  {
   "cell_type": "code",
   "execution_count": null,
   "id": "1c3d17a9-9b72-4d2f-b879-3934d3d86351",
   "metadata": {},
   "outputs": [],
   "source": [
    "## Get fit parameters\n",
    "pred_beta_klg = gr_cov._param_dict[\"beta\"]"
   ]
  },
  {
   "cell_type": "code",
   "execution_count": null,
   "id": "6eb43d69-dc8a-4662-9886-b65e4be66f66",
   "metadata": {},
   "outputs": [],
   "source": [
    "print(beta_klg[1, 0, 0])\n",
    "\n",
    "beta_inspect = []\n",
    "for beta_klg_temp in beta_klg_store:\n",
    "    beta_inspect.append(beta_klg_temp[1, 0, 0].detach().numpy())\n",
    "    \n",
    "    \n",
    "plt.plot(beta_inspect)\n",
    "plt.title('beta')"
   ]
  },
  {
   "cell_type": "code",
   "execution_count": null,
   "id": "b9d8b6a8-8026-4953-8e46-9b47cf8648b9",
   "metadata": {},
   "outputs": [],
   "source": [
    "## beta correlation\n",
    "print(\"beta correlation:\")\n",
    "print(np.corrcoef(beta_klg.detach().numpy().flatten(), pred_beta_klg.detach().numpy().flatten())[0,1])"
   ]
  },
  {
   "cell_type": "code",
   "execution_count": null,
   "id": "f8acfe8b-a26f-4871-964a-0d308824c424",
   "metadata": {},
   "outputs": [],
   "source": [
    "plt.scatter(beta_klg.detach().numpy().flatten(), pred_beta_klg.detach().numpy().flatten())\n",
    "plt.title('beta correlation')\n",
    "plt.xlabel('true parameter value')\n",
    "plt.ylabel('predicted parameter value')"
   ]
  },
  {
   "cell_type": "markdown",
   "id": "855ac1d9-7592-4655-a9a8-d9be4422d6a7",
   "metadata": {},
   "source": [
    "### compare model prediction to true values"
   ]
  },
  {
   "cell_type": "code",
   "execution_count": null,
   "id": "736a7636-aafd-46ec-89b5-c33cf94a9fb3",
   "metadata": {},
   "outputs": [],
   "source": [
    "pred_counts_ng, q_ng = gr_cov.predict(train_dataset, \n",
    "                         num_samples = 10)\n",
    "\n",
    "plt.scatter(train_dataset.counts.flatten(), pred_counts_ng.detach().numpy().flatten())\n",
    "plt.title('counts correlation')\n",
    "plt.xlabel('true counts')\n",
    "plt.ylabel('predicted counts')"
   ]
  },
  {
   "cell_type": "code",
   "execution_count": null,
   "id": "b8c61e92-7bbb-412a-8a09-4c0d2788fd10",
   "metadata": {},
   "outputs": [],
   "source": [
    "print(\"counts correlation:\")\n",
    "print(np.corrcoef(train_dataset.counts.flatten(), pred_counts_ng.detach().numpy().flatten())[0,1])"
   ]
  },
  {
   "cell_type": "code",
   "execution_count": null,
   "id": "825872fb-3174-4e0f-9c5c-1a0c010a927d",
   "metadata": {},
   "outputs": [],
   "source": [
    "## predict on val dataset \n",
    "\n",
    "pred_val_counts_ng, q_val_ng = gr_cov.predict(val_dataset, \n",
    "                         num_samples = 10)\n",
    "\n",
    "plt.scatter(val_dataset.counts.flatten(), pred_val_counts_ng.detach().numpy().flatten())\n",
    "plt.title('counts correlation')\n",
    "plt.xlabel('true counts')\n",
    "plt.ylabel('predicted counts')"
   ]
  },
  {
   "cell_type": "code",
   "execution_count": 13,
   "id": "ede506ca-ba4a-4be3-9c1a-a2d6c84db9b5",
   "metadata": {},
   "outputs": [
    {
     "name": "stdout",
     "output_type": "stream",
     "text": [
      "counts correlation:\n"
     ]
    },
    {
     "ename": "NameError",
     "evalue": "name 'pred_val_counts_ng' is not defined",
     "output_type": "error",
     "traceback": [
      "\u001b[0;31m---------------------------------------------------------------------------\u001b[0m",
      "\u001b[0;31mNameError\u001b[0m                                 Traceback (most recent call last)",
      "Input \u001b[0;32mIn [13]\u001b[0m, in \u001b[0;36m<cell line: 2>\u001b[0;34m()\u001b[0m\n\u001b[1;32m      1\u001b[0m \u001b[38;5;28mprint\u001b[39m(\u001b[38;5;124m\"\u001b[39m\u001b[38;5;124mcounts correlation:\u001b[39m\u001b[38;5;124m\"\u001b[39m)\n\u001b[0;32m----> 2\u001b[0m \u001b[38;5;28mprint\u001b[39m(np\u001b[38;5;241m.\u001b[39mcorrcoef(val_dataset\u001b[38;5;241m.\u001b[39mcounts\u001b[38;5;241m.\u001b[39mflatten(), \u001b[43mpred_val_counts_ng\u001b[49m\u001b[38;5;241m.\u001b[39mdetach()\u001b[38;5;241m.\u001b[39mnumpy()\u001b[38;5;241m.\u001b[39mflatten())[\u001b[38;5;241m0\u001b[39m,\u001b[38;5;241m1\u001b[39m])\n",
      "\u001b[0;31mNameError\u001b[0m: name 'pred_val_counts_ng' is not defined"
     ]
    }
   ],
   "source": [
    "print(\"counts correlation:\")\n",
    "print(np.corrcoef(val_dataset.counts.flatten(), pred_val_counts_ng.detach().numpy().flatten())[0,1])"
   ]
  },
  {
   "cell_type": "markdown",
   "id": "ad1cb815-f8ce-4ffe-b1c0-9dd9068f85ad",
   "metadata": {},
   "source": [
    "### Train baseline model without covariates"
   ]
  },
  {
   "cell_type": "code",
   "execution_count": 14,
   "id": "d326dcd1-67d8-4a97-bcea-616e72ad2667",
   "metadata": {},
   "outputs": [
    {
     "ename": "NameError",
     "evalue": "name 'k' is not defined",
     "output_type": "error",
     "traceback": [
      "\u001b[0;31m---------------------------------------------------------------------------\u001b[0m",
      "\u001b[0;31mNameError\u001b[0m                                 Traceback (most recent call last)",
      "Input \u001b[0;32mIn [14]\u001b[0m, in \u001b[0;36m<cell line: 5>\u001b[0;34m()\u001b[0m\n\u001b[1;32m      3\u001b[0m gr_baseline \u001b[38;5;241m=\u001b[39m GeneRegression(use_covariates \u001b[38;5;241m=\u001b[39m \u001b[38;5;28;01mFalse\u001b[39;00m)\n\u001b[1;32m      4\u001b[0m gr_baseline\u001b[38;5;241m.\u001b[39mconfigure_optimizer(optimizer_type\u001b[38;5;241m=\u001b[39m\u001b[38;5;124m'\u001b[39m\u001b[38;5;124madam\u001b[39m\u001b[38;5;124m'\u001b[39m, lr\u001b[38;5;241m=\u001b[39m\u001b[38;5;241m5e-3\u001b[39m)\n\u001b[0;32m----> 5\u001b[0m beta0_k1g_store, beta_klg_store \u001b[38;5;241m=\u001b[39m \u001b[43mgr_baseline\u001b[49m\u001b[38;5;241;43m.\u001b[39;49m\u001b[43mtrain\u001b[49m\u001b[43m(\u001b[49m\n\u001b[1;32m      6\u001b[0m \u001b[43m    \u001b[49m\u001b[43mdataset\u001b[49m\u001b[38;5;241;43m=\u001b[39;49m\u001b[43mtrain_dataset\u001b[49m\u001b[43m,\u001b[49m\n\u001b[1;32m      7\u001b[0m \u001b[43m    \u001b[49m\u001b[43mn_steps\u001b[49m\u001b[38;5;241;43m=\u001b[39;49m\u001b[38;5;241;43m5000\u001b[39;49m\u001b[43m,\u001b[49m\n\u001b[1;32m      8\u001b[0m \u001b[43m    \u001b[49m\u001b[43muse_covariates\u001b[49m\u001b[43m \u001b[49m\u001b[38;5;241;43m=\u001b[39;49m\u001b[43m \u001b[49m\u001b[38;5;28;43;01mFalse\u001b[39;49;00m\u001b[43m,\u001b[49m\n\u001b[1;32m      9\u001b[0m \u001b[43m    \u001b[49m\u001b[43mprint_frequency\u001b[49m\u001b[38;5;241;43m=\u001b[39;49m\u001b[38;5;241;43m500\u001b[39;49m\u001b[43m,\u001b[49m\n\u001b[1;32m     10\u001b[0m \u001b[43m    \u001b[49m\u001b[43msubsample_size_cells\u001b[49m\u001b[38;5;241;43m=\u001b[39;49m\u001b[38;5;241;43m1000\u001b[39;49m\u001b[43m)\u001b[49m\n\u001b[1;32m     12\u001b[0m fig, axes \u001b[38;5;241m=\u001b[39m plt\u001b[38;5;241m.\u001b[39msubplots(ncols\u001b[38;5;241m=\u001b[39m\u001b[38;5;241m2\u001b[39m, figsize\u001b[38;5;241m=\u001b[39m(\u001b[38;5;241m8\u001b[39m,\u001b[38;5;241m4\u001b[39m))\n\u001b[1;32m     13\u001b[0m gr_baseline\u001b[38;5;241m.\u001b[39mshow_loss(ax\u001b[38;5;241m=\u001b[39maxes[\u001b[38;5;241m0\u001b[39m])\n",
      "File \u001b[0;32m~/tissue_purifier_sk/src/tissue_purifier/genex/pyro_model_from_scratch.py:386\u001b[0m, in \u001b[0;36mGeneRegression.train\u001b[0;34m(self, dataset, n_steps, print_frequency, l1_regularization_strength, l2_regularization_strength, subsample_size_cells, **kargs)\u001b[0m\n\u001b[1;32m    384\u001b[0m svi \u001b[38;5;241m=\u001b[39m SVI(\u001b[38;5;28mself\u001b[39m\u001b[38;5;241m.\u001b[39m_model, \u001b[38;5;28mself\u001b[39m\u001b[38;5;241m.\u001b[39m_guide, \u001b[38;5;28mself\u001b[39m\u001b[38;5;241m.\u001b[39moptimizer, loss\u001b[38;5;241m=\u001b[39mTrace_ELBO())\n\u001b[1;32m    385\u001b[0m \u001b[38;5;28;01mfor\u001b[39;00m i \u001b[38;5;129;01min\u001b[39;00m \u001b[38;5;28mrange\u001b[39m(n_steps \u001b[38;5;241m+\u001b[39m \u001b[38;5;241m1\u001b[39m):\n\u001b[0;32m--> 386\u001b[0m     loss \u001b[38;5;241m=\u001b[39m \u001b[43msvi\u001b[49m\u001b[38;5;241;43m.\u001b[39;49m\u001b[43mstep\u001b[49m\u001b[43m(\u001b[49m\u001b[38;5;241;43m*\u001b[39;49m\u001b[38;5;241;43m*\u001b[39;49m\u001b[43mtrain_kargs\u001b[49m\u001b[43m)\u001b[49m\n\u001b[1;32m    387\u001b[0m     \u001b[38;5;28mself\u001b[39m\u001b[38;5;241m.\u001b[39m_loss_history\u001b[38;5;241m.\u001b[39mappend(loss)\n\u001b[1;32m    388\u001b[0m     \u001b[38;5;28;01mif\u001b[39;00m (i \u001b[38;5;241m%\u001b[39m print_frequency \u001b[38;5;241m==\u001b[39m \u001b[38;5;241m0\u001b[39m):\n",
      "File \u001b[0;32m/opt/conda/envs/tp_new_2/lib/python3.9/site-packages/pyro/infer/svi.py:145\u001b[0m, in \u001b[0;36mSVI.step\u001b[0;34m(self, *args, **kwargs)\u001b[0m\n\u001b[1;32m    143\u001b[0m \u001b[38;5;66;03m# get loss and compute gradients\u001b[39;00m\n\u001b[1;32m    144\u001b[0m \u001b[38;5;28;01mwith\u001b[39;00m poutine\u001b[38;5;241m.\u001b[39mtrace(param_only\u001b[38;5;241m=\u001b[39m\u001b[38;5;28;01mTrue\u001b[39;00m) \u001b[38;5;28;01mas\u001b[39;00m param_capture:\n\u001b[0;32m--> 145\u001b[0m     loss \u001b[38;5;241m=\u001b[39m \u001b[38;5;28;43mself\u001b[39;49m\u001b[38;5;241;43m.\u001b[39;49m\u001b[43mloss_and_grads\u001b[49m\u001b[43m(\u001b[49m\u001b[38;5;28;43mself\u001b[39;49m\u001b[38;5;241;43m.\u001b[39;49m\u001b[43mmodel\u001b[49m\u001b[43m,\u001b[49m\u001b[43m \u001b[49m\u001b[38;5;28;43mself\u001b[39;49m\u001b[38;5;241;43m.\u001b[39;49m\u001b[43mguide\u001b[49m\u001b[43m,\u001b[49m\u001b[43m \u001b[49m\u001b[38;5;241;43m*\u001b[39;49m\u001b[43margs\u001b[49m\u001b[43m,\u001b[49m\u001b[43m \u001b[49m\u001b[38;5;241;43m*\u001b[39;49m\u001b[38;5;241;43m*\u001b[39;49m\u001b[43mkwargs\u001b[49m\u001b[43m)\u001b[49m\n\u001b[1;32m    147\u001b[0m params \u001b[38;5;241m=\u001b[39m \u001b[38;5;28mset\u001b[39m(\n\u001b[1;32m    148\u001b[0m     site[\u001b[38;5;124m\"\u001b[39m\u001b[38;5;124mvalue\u001b[39m\u001b[38;5;124m\"\u001b[39m]\u001b[38;5;241m.\u001b[39munconstrained() \u001b[38;5;28;01mfor\u001b[39;00m site \u001b[38;5;129;01min\u001b[39;00m param_capture\u001b[38;5;241m.\u001b[39mtrace\u001b[38;5;241m.\u001b[39mnodes\u001b[38;5;241m.\u001b[39mvalues()\n\u001b[1;32m    149\u001b[0m )\n\u001b[1;32m    151\u001b[0m \u001b[38;5;66;03m# actually perform gradient steps\u001b[39;00m\n\u001b[1;32m    152\u001b[0m \u001b[38;5;66;03m# torch.optim objects gets instantiated for any params that haven't been seen yet\u001b[39;00m\n",
      "File \u001b[0;32m/opt/conda/envs/tp_new_2/lib/python3.9/site-packages/pyro/infer/trace_elbo.py:140\u001b[0m, in \u001b[0;36mTrace_ELBO.loss_and_grads\u001b[0;34m(self, model, guide, *args, **kwargs)\u001b[0m\n\u001b[1;32m    138\u001b[0m loss \u001b[38;5;241m=\u001b[39m \u001b[38;5;241m0.0\u001b[39m\n\u001b[1;32m    139\u001b[0m \u001b[38;5;66;03m# grab a trace from the generator\u001b[39;00m\n\u001b[0;32m--> 140\u001b[0m \u001b[38;5;28;01mfor\u001b[39;00m model_trace, guide_trace \u001b[38;5;129;01min\u001b[39;00m \u001b[38;5;28mself\u001b[39m\u001b[38;5;241m.\u001b[39m_get_traces(model, guide, args, kwargs):\n\u001b[1;32m    141\u001b[0m     loss_particle, surrogate_loss_particle \u001b[38;5;241m=\u001b[39m \u001b[38;5;28mself\u001b[39m\u001b[38;5;241m.\u001b[39m_differentiable_loss_particle(\n\u001b[1;32m    142\u001b[0m         model_trace, guide_trace\n\u001b[1;32m    143\u001b[0m     )\n\u001b[1;32m    144\u001b[0m     loss \u001b[38;5;241m+\u001b[39m\u001b[38;5;241m=\u001b[39m loss_particle \u001b[38;5;241m/\u001b[39m \u001b[38;5;28mself\u001b[39m\u001b[38;5;241m.\u001b[39mnum_particles\n",
      "File \u001b[0;32m/opt/conda/envs/tp_new_2/lib/python3.9/site-packages/pyro/infer/elbo.py:236\u001b[0m, in \u001b[0;36mELBO._get_traces\u001b[0;34m(self, model, guide, args, kwargs)\u001b[0m\n\u001b[1;32m    234\u001b[0m \u001b[38;5;28;01melse\u001b[39;00m:\n\u001b[1;32m    235\u001b[0m     \u001b[38;5;28;01mfor\u001b[39;00m i \u001b[38;5;129;01min\u001b[39;00m \u001b[38;5;28mrange\u001b[39m(\u001b[38;5;28mself\u001b[39m\u001b[38;5;241m.\u001b[39mnum_particles):\n\u001b[0;32m--> 236\u001b[0m         \u001b[38;5;28;01myield\u001b[39;00m \u001b[38;5;28;43mself\u001b[39;49m\u001b[38;5;241;43m.\u001b[39;49m\u001b[43m_get_trace\u001b[49m\u001b[43m(\u001b[49m\u001b[43mmodel\u001b[49m\u001b[43m,\u001b[49m\u001b[43m \u001b[49m\u001b[43mguide\u001b[49m\u001b[43m,\u001b[49m\u001b[43m \u001b[49m\u001b[43margs\u001b[49m\u001b[43m,\u001b[49m\u001b[43m \u001b[49m\u001b[43mkwargs\u001b[49m\u001b[43m)\u001b[49m\n",
      "File \u001b[0;32m/opt/conda/envs/tp_new_2/lib/python3.9/site-packages/pyro/infer/trace_elbo.py:57\u001b[0m, in \u001b[0;36mTrace_ELBO._get_trace\u001b[0;34m(self, model, guide, args, kwargs)\u001b[0m\n\u001b[1;32m     52\u001b[0m \u001b[38;5;28;01mdef\u001b[39;00m \u001b[38;5;21m_get_trace\u001b[39m(\u001b[38;5;28mself\u001b[39m, model, guide, args, kwargs):\n\u001b[1;32m     53\u001b[0m     \u001b[38;5;124;03m\"\"\"\u001b[39;00m\n\u001b[1;32m     54\u001b[0m \u001b[38;5;124;03m    Returns a single trace from the guide, and the model that is run\u001b[39;00m\n\u001b[1;32m     55\u001b[0m \u001b[38;5;124;03m    against it.\u001b[39;00m\n\u001b[1;32m     56\u001b[0m \u001b[38;5;124;03m    \"\"\"\u001b[39;00m\n\u001b[0;32m---> 57\u001b[0m     model_trace, guide_trace \u001b[38;5;241m=\u001b[39m \u001b[43mget_importance_trace\u001b[49m\u001b[43m(\u001b[49m\n\u001b[1;32m     58\u001b[0m \u001b[43m        \u001b[49m\u001b[38;5;124;43m\"\u001b[39;49m\u001b[38;5;124;43mflat\u001b[39;49m\u001b[38;5;124;43m\"\u001b[39;49m\u001b[43m,\u001b[49m\u001b[43m \u001b[49m\u001b[38;5;28;43mself\u001b[39;49m\u001b[38;5;241;43m.\u001b[39;49m\u001b[43mmax_plate_nesting\u001b[49m\u001b[43m,\u001b[49m\u001b[43m \u001b[49m\u001b[43mmodel\u001b[49m\u001b[43m,\u001b[49m\u001b[43m \u001b[49m\u001b[43mguide\u001b[49m\u001b[43m,\u001b[49m\u001b[43m \u001b[49m\u001b[43margs\u001b[49m\u001b[43m,\u001b[49m\u001b[43m \u001b[49m\u001b[43mkwargs\u001b[49m\n\u001b[1;32m     59\u001b[0m \u001b[43m    \u001b[49m\u001b[43m)\u001b[49m\n\u001b[1;32m     60\u001b[0m     \u001b[38;5;28;01mif\u001b[39;00m is_validation_enabled():\n\u001b[1;32m     61\u001b[0m         check_if_enumerated(guide_trace)\n",
      "File \u001b[0;32m/opt/conda/envs/tp_new_2/lib/python3.9/site-packages/pyro/infer/enum.py:65\u001b[0m, in \u001b[0;36mget_importance_trace\u001b[0;34m(graph_type, max_plate_nesting, model, guide, args, kwargs, detach)\u001b[0m\n\u001b[1;32m     63\u001b[0m     \u001b[38;5;28;01mif\u001b[39;00m detach:\n\u001b[1;32m     64\u001b[0m         guide_trace\u001b[38;5;241m.\u001b[39mdetach_()\n\u001b[0;32m---> 65\u001b[0m     model_trace \u001b[38;5;241m=\u001b[39m \u001b[43mpoutine\u001b[49m\u001b[38;5;241;43m.\u001b[39;49m\u001b[43mtrace\u001b[49m\u001b[43m(\u001b[49m\n\u001b[1;32m     66\u001b[0m \u001b[43m        \u001b[49m\u001b[43mpoutine\u001b[49m\u001b[38;5;241;43m.\u001b[39;49m\u001b[43mreplay\u001b[49m\u001b[43m(\u001b[49m\u001b[43mmodel\u001b[49m\u001b[43m,\u001b[49m\u001b[43m \u001b[49m\u001b[43mtrace\u001b[49m\u001b[38;5;241;43m=\u001b[39;49m\u001b[43mguide_trace\u001b[49m\u001b[43m)\u001b[49m\u001b[43m,\u001b[49m\u001b[43m \u001b[49m\u001b[43mgraph_type\u001b[49m\u001b[38;5;241;43m=\u001b[39;49m\u001b[43mgraph_type\u001b[49m\n\u001b[1;32m     67\u001b[0m \u001b[43m    \u001b[49m\u001b[43m)\u001b[49m\u001b[38;5;241;43m.\u001b[39;49m\u001b[43mget_trace\u001b[49m\u001b[43m(\u001b[49m\u001b[38;5;241;43m*\u001b[39;49m\u001b[43margs\u001b[49m\u001b[43m,\u001b[49m\u001b[43m \u001b[49m\u001b[38;5;241;43m*\u001b[39;49m\u001b[38;5;241;43m*\u001b[39;49m\u001b[43mkwargs\u001b[49m\u001b[43m)\u001b[49m\n\u001b[1;32m     69\u001b[0m \u001b[38;5;28;01mif\u001b[39;00m is_validation_enabled():\n\u001b[1;32m     70\u001b[0m     check_model_guide_match(model_trace, guide_trace, max_plate_nesting)\n",
      "File \u001b[0;32m/opt/conda/envs/tp_new_2/lib/python3.9/site-packages/pyro/poutine/trace_messenger.py:198\u001b[0m, in \u001b[0;36mTraceHandler.get_trace\u001b[0;34m(self, *args, **kwargs)\u001b[0m\n\u001b[1;32m    190\u001b[0m \u001b[38;5;28;01mdef\u001b[39;00m \u001b[38;5;21mget_trace\u001b[39m(\u001b[38;5;28mself\u001b[39m, \u001b[38;5;241m*\u001b[39margs, \u001b[38;5;241m*\u001b[39m\u001b[38;5;241m*\u001b[39mkwargs):\n\u001b[1;32m    191\u001b[0m     \u001b[38;5;124;03m\"\"\"\u001b[39;00m\n\u001b[1;32m    192\u001b[0m \u001b[38;5;124;03m    :returns: data structure\u001b[39;00m\n\u001b[1;32m    193\u001b[0m \u001b[38;5;124;03m    :rtype: pyro.poutine.Trace\u001b[39;00m\n\u001b[0;32m   (...)\u001b[0m\n\u001b[1;32m    196\u001b[0m \u001b[38;5;124;03m    Calls this poutine and returns its trace instead of the function's return value.\u001b[39;00m\n\u001b[1;32m    197\u001b[0m \u001b[38;5;124;03m    \"\"\"\u001b[39;00m\n\u001b[0;32m--> 198\u001b[0m     \u001b[38;5;28;43mself\u001b[39;49m\u001b[43m(\u001b[49m\u001b[38;5;241;43m*\u001b[39;49m\u001b[43margs\u001b[49m\u001b[43m,\u001b[49m\u001b[43m \u001b[49m\u001b[38;5;241;43m*\u001b[39;49m\u001b[38;5;241;43m*\u001b[39;49m\u001b[43mkwargs\u001b[49m\u001b[43m)\u001b[49m\n\u001b[1;32m    199\u001b[0m     \u001b[38;5;28;01mreturn\u001b[39;00m \u001b[38;5;28mself\u001b[39m\u001b[38;5;241m.\u001b[39mmsngr\u001b[38;5;241m.\u001b[39mget_trace()\n",
      "File \u001b[0;32m/opt/conda/envs/tp_new_2/lib/python3.9/site-packages/pyro/poutine/trace_messenger.py:174\u001b[0m, in \u001b[0;36mTraceHandler.__call__\u001b[0;34m(self, *args, **kwargs)\u001b[0m\n\u001b[1;32m    170\u001b[0m \u001b[38;5;28mself\u001b[39m\u001b[38;5;241m.\u001b[39mmsngr\u001b[38;5;241m.\u001b[39mtrace\u001b[38;5;241m.\u001b[39madd_node(\n\u001b[1;32m    171\u001b[0m     \u001b[38;5;124m\"\u001b[39m\u001b[38;5;124m_INPUT\u001b[39m\u001b[38;5;124m\"\u001b[39m, name\u001b[38;5;241m=\u001b[39m\u001b[38;5;124m\"\u001b[39m\u001b[38;5;124m_INPUT\u001b[39m\u001b[38;5;124m\"\u001b[39m, \u001b[38;5;28mtype\u001b[39m\u001b[38;5;241m=\u001b[39m\u001b[38;5;124m\"\u001b[39m\u001b[38;5;124margs\u001b[39m\u001b[38;5;124m\"\u001b[39m, args\u001b[38;5;241m=\u001b[39margs, kwargs\u001b[38;5;241m=\u001b[39mkwargs\n\u001b[1;32m    172\u001b[0m )\n\u001b[1;32m    173\u001b[0m \u001b[38;5;28;01mtry\u001b[39;00m:\n\u001b[0;32m--> 174\u001b[0m     ret \u001b[38;5;241m=\u001b[39m \u001b[38;5;28;43mself\u001b[39;49m\u001b[38;5;241;43m.\u001b[39;49m\u001b[43mfn\u001b[49m\u001b[43m(\u001b[49m\u001b[38;5;241;43m*\u001b[39;49m\u001b[43margs\u001b[49m\u001b[43m,\u001b[49m\u001b[43m \u001b[49m\u001b[38;5;241;43m*\u001b[39;49m\u001b[38;5;241;43m*\u001b[39;49m\u001b[43mkwargs\u001b[49m\u001b[43m)\u001b[49m\n\u001b[1;32m    175\u001b[0m \u001b[38;5;28;01mexcept\u001b[39;00m (\u001b[38;5;167;01mValueError\u001b[39;00m, \u001b[38;5;167;01mRuntimeError\u001b[39;00m) \u001b[38;5;28;01mas\u001b[39;00m e:\n\u001b[1;32m    176\u001b[0m     exc_type, exc_value, traceback \u001b[38;5;241m=\u001b[39m sys\u001b[38;5;241m.\u001b[39mexc_info()\n",
      "File \u001b[0;32m/opt/conda/envs/tp_new_2/lib/python3.9/site-packages/pyro/poutine/messenger.py:12\u001b[0m, in \u001b[0;36m_context_wrap\u001b[0;34m(context, fn, *args, **kwargs)\u001b[0m\n\u001b[1;32m     10\u001b[0m \u001b[38;5;28;01mdef\u001b[39;00m \u001b[38;5;21m_context_wrap\u001b[39m(context, fn, \u001b[38;5;241m*\u001b[39margs, \u001b[38;5;241m*\u001b[39m\u001b[38;5;241m*\u001b[39mkwargs):\n\u001b[1;32m     11\u001b[0m     \u001b[38;5;28;01mwith\u001b[39;00m context:\n\u001b[0;32m---> 12\u001b[0m         \u001b[38;5;28;01mreturn\u001b[39;00m \u001b[43mfn\u001b[49m\u001b[43m(\u001b[49m\u001b[38;5;241;43m*\u001b[39;49m\u001b[43margs\u001b[49m\u001b[43m,\u001b[49m\u001b[43m \u001b[49m\u001b[38;5;241;43m*\u001b[39;49m\u001b[38;5;241;43m*\u001b[39;49m\u001b[43mkwargs\u001b[49m\u001b[43m)\u001b[49m\n",
      "File \u001b[0;32m~/tissue_purifier_sk/src/tissue_purifier/genex/pyro_model_from_scratch.py:107\u001b[0m, in \u001b[0;36mGeneRegression._model\u001b[0;34m(self, n_cells, l_cov, g_genes, k_cell_types, counts_ng, total_umi_n, covariates_nl, cell_type_ids_n, l1_regularization_strength, l2_regularization_strength, beta0_g_init, subsample_size_cells, **kargs)\u001b[0m\n\u001b[1;32m    100\u001b[0m cell_plate \u001b[38;5;241m=\u001b[39m pyro\u001b[38;5;241m.\u001b[39mplate(\u001b[38;5;124m\"\u001b[39m\u001b[38;5;124mcells\u001b[39m\u001b[38;5;124m\"\u001b[39m, size\u001b[38;5;241m=\u001b[39mn_cells, dim\u001b[38;5;241m=\u001b[39m\u001b[38;5;241m-\u001b[39m\u001b[38;5;241m1\u001b[39m, device\u001b[38;5;241m=\u001b[39mdevice, subsample_size\u001b[38;5;241m=\u001b[39msubsample_size_cells)\n\u001b[1;32m    101\u001b[0m \u001b[38;5;66;03m#cell_types_plate = pyro.plate(\"cell_types\", size=k_cell_types, dim=-1, device=device)\u001b[39;00m\n\u001b[1;32m    102\u001b[0m \n\u001b[1;32m    103\u001b[0m \n\u001b[1;32m    104\u001b[0m \u001b[38;5;66;03m# Figure out a reasonable initialization for beta0_kg; initialize at zero for now\u001b[39;00m\n\u001b[1;32m    105\u001b[0m \u001b[38;5;66;03m## initialize following nUMIs to encourage beta's to be 0 centered\u001b[39;00m\n\u001b[1;32m    106\u001b[0m \u001b[38;5;66;03m#beta0_k1g = pyro.param(\"beta0\", torch.zeros((k_cell_types,1,g_genes)))\u001b[39;00m\n\u001b[0;32m--> 107\u001b[0m beta0_k1g \u001b[38;5;241m=\u001b[39m pyro\u001b[38;5;241m.\u001b[39mparam(\u001b[38;5;124m\"\u001b[39m\u001b[38;5;124mbeta0\u001b[39m\u001b[38;5;124m\"\u001b[39m, beta0_g_init[\u001b[38;5;28;01mNone\u001b[39;00m, \u001b[38;5;28;01mNone\u001b[39;00m]\u001b[38;5;241m.\u001b[39mexpand(\u001b[43mk\u001b[49m,\u001b[38;5;241m1\u001b[39m,g)\u001b[38;5;241m.\u001b[39mto(device))\n\u001b[1;32m    109\u001b[0m \u001b[38;5;28;01mif\u001b[39;00m \u001b[38;5;28mself\u001b[39m\u001b[38;5;241m.\u001b[39m_use_covariates:\n\u001b[1;32m    110\u001b[0m     \n\u001b[1;32m    111\u001b[0m     \u001b[38;5;66;03m#with cell_types_plate:\u001b[39;00m\n\u001b[1;32m    112\u001b[0m         \u001b[38;5;66;03m# default prior without regularization \u001b[39;00m\n\u001b[1;32m    113\u001b[0m         \u001b[38;5;66;03m# (note the mask statement. This will always give log_prob and kl_divergence =0)\u001b[39;00m\n\u001b[1;32m    114\u001b[0m     beta_prior \u001b[38;5;241m=\u001b[39m dist\u001b[38;5;241m.\u001b[39mNormal(loc\u001b[38;5;241m=\u001b[39m\u001b[38;5;241m0\u001b[39m, scale\u001b[38;5;241m=\u001b[39m\u001b[38;5;241m0.1\u001b[39m)\n",
      "\u001b[0;31mNameError\u001b[0m: name 'k' is not defined"
     ]
    }
   ],
   "source": [
    "pyro.clear_param_store()\n",
    "torch.cuda.empty_cache()\n",
    "gr_baseline = GeneRegression(use_covariates = False)\n",
    "gr_baseline.configure_optimizer(optimizer_type='adam', lr=5e-3)\n",
    "beta0_k1g_store, beta_klg_store = gr_baseline.train(\n",
    "    dataset=train_dataset,\n",
    "    n_steps=5000,\n",
    "    use_covariates = False,\n",
    "    print_frequency=500,\n",
    "    subsample_size_cells=1000)\n",
    "\n",
    "fig, axes = plt.subplots(ncols=2, figsize=(8,4))\n",
    "gr_baseline.show_loss(ax=axes[0])\n",
    "gr_baseline.show_loss(ax=axes[1], logy=True, logx=True)"
   ]
  },
  {
   "cell_type": "code",
   "execution_count": 28,
   "id": "34c27b18-51fd-4385-98e1-119ec23332e7",
   "metadata": {},
   "outputs": [
    {
     "name": "stdout",
     "output_type": "stream",
     "text": [
      "q_no_cov_mean:\n",
      "tensor([[  34.9000,  198.2000,  227.5000,  ...,  130.2000,  429.6000,\n",
      "         1410.0000],\n",
      "        [  93.6000,  226.3000,   76.8000,  ...,   69.5000,  287.4000,\n",
      "          695.4000],\n",
      "        [  30.0000,   42.8000,   59.4000,  ...,   54.9000,   14.7000,\n",
      "          379.0000],\n",
      "        ...,\n",
      "        [ 345.0000,  322.3000,  268.1000,  ..., 1265.5000,  132.5000,\n",
      "           26.2000],\n",
      "        [  77.3000,  125.2000,  181.0000,  ...,  356.2000,  484.2000,\n",
      "          969.3000],\n",
      "        [ 306.4000,  592.8000,  189.9000,  ...,  449.1000,  831.2000,\n",
      "          793.5000]], device='cpu')\n"
     ]
    },
    {
     "data": {
      "text/plain": [
       "Text(0, 0.5, 'predicted counts')"
      ]
     },
     "execution_count": 28,
     "metadata": {},
     "output_type": "execute_result"
    },
    {
     "data": {
      "image/png": "[encoded data removed]",
      "text/plain": [
       "<Figure size 640x480 with 1 Axes>"
      ]
     },
     "metadata": {},
     "output_type": "display_data"
    }
   ],
   "source": [
    "## predict on val dataset \n",
    "\n",
    "pred_no_cov_val_counts_ng, q_no_cov_val_ng = gr_baseline.predict(val_dataset, \n",
    "                         num_samples = 10)\n",
    "\n",
    "print(\"q_no_cov_mean:\")\n",
    "print(q_no_cov_val_ng)\n",
    "\n",
    "plt.scatter(val_dataset.counts.flatten(), pred_no_cov_val_counts_ng.detach().numpy().flatten())\n",
    "plt.title('counts correlation')\n",
    "plt.xlabel('true counts')\n",
    "plt.ylabel('predicted counts')"
   ]
  },
  {
   "cell_type": "code",
   "execution_count": 29,
   "id": "862d36de-e30f-4b9b-887b-97524d3ea5bb",
   "metadata": {},
   "outputs": [
    {
     "name": "stdout",
     "output_type": "stream",
     "text": [
      "counts correlation:\n",
      "0.8852932895147554\n"
     ]
    }
   ],
   "source": [
    "print(\"counts correlation:\")\n",
    "print(np.corrcoef(val_dataset.counts.flatten(), pred_no_cov_val_counts_ng.detach().numpy().flatten())[0,1])"
   ]
  },
  {
   "cell_type": "markdown",
   "id": "5420cd98-77ce-4cd5-8e5c-7ff0be08c58e",
   "metadata": {},
   "source": [
    "### Compute q-ratio evaluation metric"
   ]
  },
  {
   "cell_type": "code",
   "execution_count": 30,
   "id": "21680b3b-149c-45e3-8145-7b046edeeacc",
   "metadata": {},
   "outputs": [],
   "source": [
    "pred_no_cov_val_counts_ng, q_no_cov_val_ng = gr_baseline.predict(\n",
    "    train_dataset,\n",
    "    num_samples=100,\n",
    "    subsample_size_cells=1000)\n",
    "\n",
    "df_baseline_test = gr_baseline.compute_eval_metrics(\n",
    "    test_dataset,\n",
    "    num_samples=100,\n",
    "    subsample_size_cells=1000)\n",
    "\n",
    "df_baseline_test = df_baseline_test.groupby([\"cell_type\", \"gene\"]).mean() "
   ]
  },
  {
   "cell_type": "code",
   "execution_count": 31,
   "id": "d11fd5f3-8251-428d-9cec-e15547bc3bbf",
   "metadata": {},
   "outputs": [],
   "source": [
    "result_dict = dict()\n",
    "\n",
    "df_metric_tmp_test, q_z_kg_tmp_test = gr_cov.compute_eval_metrics(\n",
    "        test_dataset,\n",
    "        num_samples=100,\n",
    "        subsample_size_cells=1000,\n",
    "        gr_baseline = gr_baseline)\n",
    "    \n",
    "df_tmp_test = df_metric_tmp_test.groupby([\"cell_type\", \"gene\"]).mean()\n",
    "df_tmp_test[\"q_ratio\"] = df_tmp_test[\"q_dist\"] / df_baseline_test[\"q_dist\"]\n",
    "result_dict[\"test_gr_cov\"] = df_tmp_test[\"q_ratio\"].values "
   ]
  },
  {
   "cell_type": "code",
   "execution_count": 32,
   "id": "60deb063-b942-47c7-9420-9e7427c88bbb",
   "metadata": {},
   "outputs": [
    {
     "data": {
      "image/png": "[encoded data removed]",
      "text/plain": [
       "<Figure size 600x600 with 1 Axes>"
      ]
     },
     "metadata": {},
     "output_type": "display_data"
    }
   ],
   "source": [
    "nmax = len(result_dict.keys())\n",
    "ncols = 1\n",
    "nrows = int(numpy.ceil(float(nmax)/ncols))\n",
    "\n",
    "fig, axes = plt.subplots(ncols=ncols, nrows=nrows, figsize=(6*ncols, 6*nrows))\n",
    "fig.suptitle(\"Distribution of q_with_cov / q_no_cov\")\n",
    "    \n",
    "score_dict = dict()\n",
    "    \n",
    "for n, key in enumerate(result_dict.keys()):\n",
    "    r,c = n//ncols, n%ncols\n",
    "    #ax_cur = axes[r,c]\n",
    "    _ = seaborn.histplot(x=result_dict[key], bins=200)\n",
    "    score = numpy.median(result_dict[key])\n",
    "    score_dict[key] = score\n",
    "    _ = axes.set_title(\"{} score= {}\".format(key, score))"
   ]
  },
  {
   "cell_type": "markdown",
   "id": "b5d733cc-869b-4fff-b4bc-cc8a6b9f9507",
   "metadata": {},
   "source": [
    "### Compute mad z-score evaluation metric"
   ]
  },
  {
   "cell_type": "code",
   "execution_count": 33,
   "id": "66c8e665-9745-453a-90ff-5f035e4045c4",
   "metadata": {},
   "outputs": [
    {
     "name": "stdout",
     "output_type": "stream",
     "text": [
      "q_z_mean:\n",
      "tensor(-0.9923, device='cpu')\n"
     ]
    },
    {
     "data": {
      "text/plain": [
       "(array([ 1.,  0.,  3.,  7., 15., 13.,  7.,  2.,  1.,  1.]),\n",
       " array([-1.8639183 , -1.6915509 , -1.5191835 , -1.3468161 , -1.1744486 ,\n",
       "        -1.0020813 , -0.8297138 , -0.6573464 , -0.484979  , -0.31261158,\n",
       "        -0.14024417], dtype=float32),\n",
       " <BarContainer object of 10 artists>)"
      ]
     },
     "execution_count": 33,
     "metadata": {},
     "output_type": "execute_result"
    },
    {
     "data": {
      "image/png": "[encoded data removed]",
      "text/plain": [
       "<Figure size 640x480 with 1 Axes>"
      ]
     },
     "metadata": {},
     "output_type": "display_data"
    }
   ],
   "source": [
    "## predict on val dataset \n",
    "\n",
    "print('q_z_mean:')\n",
    "print(q_z_kg_tmp_test.mean())\n",
    "\n",
    "plt.hist(q_z_kg_tmp_test.flatten())\n",
    "# plt.scatter(val_dataset.counts.flatten(), pred_val_counts_ng.detach().numpy().flatten())\n",
    "# plt.title('counts correlation')\n",
    "# plt.xlabel('true counts')\n",
    "# plt.ylabel('predicted counts')"
   ]
  },
  {
   "cell_type": "markdown",
   "id": "c97cca16-33d9-48da-a429-e4156b8071e9",
   "metadata": {},
   "source": [
    "### Test get parameters method"
   ]
  },
  {
   "cell_type": "code",
   "execution_count": 34,
   "id": "1bc9356b-61a2-4df8-b2f9-bb44c7fa2a43",
   "metadata": {},
   "outputs": [
    {
     "name": "stdout",
     "output_type": "stream",
     "text": [
      "gr cov:\n",
      "     beta_1    beta_2    beta_3    beta_4    beta_5    beta_0 cell_type gene\n",
      "0 -1.477544 -2.367186 -1.608684 -1.579111 -2.015765 -1.851315         0    0\n",
      "1 -1.427800 -3.310014 -1.447953 -0.636108 -2.035309 -1.827861         0    1\n",
      "2  1.103507 -2.353029 -0.680705 -2.983468 -0.502971 -1.155090         0    2\n",
      "3 -1.236997 -0.693639 -1.176902 -1.098028 -0.603101 -1.025688         0    3\n",
      "4 -1.643136 -0.850783  0.050936 -0.834195 -0.362093 -0.811362         0    4\n",
      "gr baseline:\n",
      "     beta_0 cell_type gene\n",
      "0 -3.644796         0    0\n",
      "1 -3.515471         0    1\n",
      "2 -2.003090         0    2\n",
      "3 -1.986984         0    3\n",
      "4 -1.519128         0    4\n"
     ]
    },
    {
     "data": {
      "image/png": "[encoded data removed]",
      "text/plain": [
       "<Figure size 640x480 with 1 Axes>"
      ]
     },
     "metadata": {},
     "output_type": "display_data"
    }
   ],
   "source": [
    "print(\"gr cov:\")\n",
    "param_df = gr_cov.get_params()\n",
    "print(param_df.head())\n",
    "\n",
    "plt.hist(np.array(param_df.iloc[:,:(l-1)]).flatten())\n",
    "\n",
    "print(\"gr baseline:\")\n",
    "param_baseline_df = gr_baseline.get_params()\n",
    "print(param_baseline_df.head())"
   ]
  }
 ],
 "metadata": {
  "environment": {
   "kernel": "conda-env-tp_new_2-py",
   "name": "pytorch-gpu.1-11.m91",
   "type": "gcloud",
   "uri": "gcr.io/deeplearning-platform-release/pytorch-gpu.1-11:m91"
  },
  "kernelspec": {
   "display_name": "Python [conda env:tp_new_2]",
   "language": "python",
   "name": "conda-env-tp_new_2-py"
  },
  "language_info": {
   "codemirror_mode": {
    "name": "ipython",
    "version": 3
   },
   "file_extension": ".py",
   "mimetype": "text/x-python",
   "name": "python",
   "nbconvert_exporter": "python",
   "pygments_lexer": "ipython3",
   "version": "3.9.12"
  }
 },
 "nbformat": 4,
 "nbformat_minor": 5
}
